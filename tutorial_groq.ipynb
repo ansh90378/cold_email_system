{
 "cells": [
  {
   "cell_type": "code",
   "execution_count": 2,
   "id": "8fc07394-efb2-490c-85a0-891ee817d321",
   "metadata": {},
   "outputs": [
    {
     "name": "stdout",
     "output_type": "stream",
     "text": [
      "Hello world\n",
      "This flie is ceted and running perfectly\n"
     ]
    }
   ],
   "source": [
    "print(\"Hello world\")\n",
    "print(\"This flie is ceted and running perfectly\")"
   ]
  },
  {
   "cell_type": "code",
   "execution_count": 1,
   "id": "f07ed937-63da-4108-959c-1a708e217af8",
   "metadata": {},
   "outputs": [
    {
     "name": "stdout",
     "output_type": "stream",
     "text": [
      "The first person to land on the moon was Neil Armstrong on July 20, 1969, as part of the Apollo 11 mission. Armstrong's famous words, \"That's one small step for man, one giant leap for mankind,\" were spoken as he became the first human to set foot on the lunar surface.\n"
     ]
    }
   ],
   "source": [
    "from langchain_groq import ChatGroq\n",
    "\n",
    "llm = ChatGroq(\n",
    "    temperature=0,\n",
    "    groq_api_key='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',\n",
    "    model=\"mixtral-8x7b-32768\",\n",
    ")\n",
    "\n",
    "response = llm.invoke(\"The first person to land on moon was ...\")\n",
    "print(response.content)"
   ]
  },
  {
   "cell_type": "code",
   "execution_count": null,
   "id": "10a79fdc-4d1a-4742-8999-daca3195372f",
   "metadata": {},
   "outputs": [],
   "source": []
  }
 ],
 "metadata": {
  "kernelspec": {
   "display_name": "Python 3 (ipykernel)",
   "language": "python",
   "name": "python3"
  },
  "language_info": {
   "codemirror_mode": {
    "name": "ipython",
    "version": 3
   },
   "file_extension": ".py",
   "mimetype": "text/x-python",
   "name": "python",
   "nbconvert_exporter": "python",
   "pygments_lexer": "ipython3",
   "version": "3.12.5"
  }
 },
 "nbformat": 4,
 "nbformat_minor": 5
}
