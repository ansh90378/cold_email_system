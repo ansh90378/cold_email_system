{
 "cells": [
  {
   "cell_type": "code",
   "execution_count": 1,
   "id": "bd2e1700-af60-4a4a-92e0-79da8cafc41f",
   "metadata": {},
   "outputs": [],
   "source": [
    "from langchain_groq import ChatGroq"
   ]
  },
  {
   "cell_type": "code",
   "execution_count": 2,
   "id": "d78a0fb2-b535-427e-9c3f-12ab31c5ee50",
   "metadata": {},
   "outputs": [
    {
     "name": "stdout",
     "output_type": "stream",
     "text": [
      "The first person to land on the moon was Neil Armstrong. He stepped onto the lunar surface on July 20, 1969, as part of the Apollo 11 mission.\n"
     ]
    }
   ],
   "source": [
    "llm = ChatGroq(\n",
    "    temperature=0,\n",
    "    groq_api_key='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',\n",
    "    model_name=\"llama-3.1-70b-versatile\"\n",
    ")\n",
    "response = llm.invoke(\"The first person to land on moon was ...\")\n",
    "print(response.content)"
   ]
  },
  {
   "cell_type": "code",
   "execution_count": 4,
   "id": "330e8113-43cb-4087-b50f-d686359c247d",
   "metadata": {},
   "outputs": [
    {
     "name": "stderr",
     "output_type": "stream",
     "text": [
      "USER_AGENT environment variable not set, consider setting it to identify your requests.\n"
     ]
    },
    {
     "name": "stdout",
     "output_type": "stream",
     "text": [
      "Apply for NIKE, Inc. Data & Machine Learning Engineer Undergraduate Internship\n",
      "\n",
      "Search JobsSkip navigationSearch JobsNIKE, INC. JOBSContract JobsJoin The Talent CommunityLife @ NikeOverviewBenefitsBrandsOverviewJordanConverseTeamsOverviewAdministrative SupportAdvanced InnovationAir Manufacturing InnovationAviationCommunicationsCustomer ServiceDesignDigitalFacilitiesFinance & AccountingGovernment & Public AffairsHuman ResourcesInsights & AnalyticsLegalManufacturing & EngineeringMarketingMerchandisingPlanningPrivacyProcurementProduct Creation, Development & ManagementRetail CorporateRetail StoresSalesSocial & Community ImpactSports MarketingStrategic PlanningSupply Chain, Distribution & LogisticsSustainabilityTechnologyLocationsOverviewNike WHQNike New York HQEHQ: Hilversum, The NetherlandsELC: Laakdal, BelgiumGreater China HQDiversity, Equity & InclusionOverviewMilitary InclusionDisability InclusionIndigenous InclusionInternshipsInternshipsNIKE, Inc. Data & Machine Learning Engineer Undergraduate InternshipBeaverton, OregonBecome a Part of the NIKE, Inc. Team\n",
      "NIKE, Inc. does more than outfit the world’s best athletes. It is a place to explore potential, obliterate boundaries and push out the edges of what can be. The company looks for people who can grow, think, dream and create. Its culture thrives by embracing diversity and rewarding imagination. The brand seeks achievers, leaders and visionaries. At NIKE, Inc. it’s about each person bringing skills and passion to a challenging and constantly evolving game.NIKE is a technology company. From our flagship website and five-star mobile apps to developing products, managing big data, and providing leading edge engineering and systems support, our teams at NIKE Global Technology exist to revolutionize the future at the confluence of tech and sport. We invest and develop advances in technology and employ the most creative people in the world, and then give them the support to constantly innovate, iterate, and serve consumers more directly and personally. Our teams are innovative, diverse, multidisciplinary, and collaborative, taking technology into the future and bringing the world with it.  WHO WE ARE LOOKING FOR: The Artificial Intelligence and Machine Learning Group applies machine learning to problems at Nike. We develop fundamental technologies, do applied research and development, and deliver to production to enable AI/ML across Nike.  The ideal intern candidate is a leader with a demonstrated interest in developing complex data solutions and working on end-to-end solution design. You are a passionate, data enthusiast who loves finding relationships between disparate data sets and clarity in a muddied data environment and are continually learning as well as finding opportunities to share knowledge with others. The person we’re searching for gets energized and excited by the challenge of building things from the ground up, loves to think out of the box, and brings to bear the latest technologies in statistical, unsupervised, supervised, and Artificial Intelligence (AI) models to achieve organizational goals.  WHAT YOU’LL EXPERIENCE: Our goal for the Data & Machine Learning Engineering Internship is to provide an incredible and unique experience, showing what it is like to be at Nike full-time. As a Data Engineer, you will apply machine learning and engineering expertise to improve existing algorithms and understand and be able to leverage core concepts of AI/ML to research and develop new algorithms. You will collaborate in multi-functional teams to support other groups who will also be working on science or science-engineering-related work. Intern Project Examples Include: Keep Nike on the offensive by integrating Machine Learning within our technologies to identify and resolve incidents faster and more efficiently. Scale Nike’s innovation teams and our sustainability goal of moving to zero waste through the use of computer vision, code, agile methodologies, and robotics. Ensuring people with disabilities have equitable access to Nike’s Technology using Artificial Intelligence. Curious to know what it’s like to be part of a world-class Internship Program? Check out our recap video from last summer: Nike Internship Program Recap Video   This internship – as well as most full-time positions – is located in person at the NIKE, Inc. World Headquarters in Beaverton, OR. Check out this video of our World Headquarters to learn more about life on campus: Nike WHQ Campus Video   WHAT YOU WILL BRING: Qualifications: Enrolled in an undergraduate program in computer science, mathematics, statistics, or related technical subject area with an expected graduation date between Winter 2025 or Spring/Summer 2026 0-2 years work experience Resume submission (PDF) Required Technical Skills: Knowledge of Python, SQL, Tableau Knowledge of AI/ML techniques such as neural networks, tree ensembles, regressions, etc. Deep understanding of data structures and algorithms Deep understanding of solution and technical design Strong problem-solving, debugging, testing, and analytical skills Ability to quickly pick up new programming languages, technologies, and frameworks NIKE, Inc. is a growth company that looks for team members to grow with it. Nike offers a generous total rewards package, casual work environment, a diverse and inclusive culture, and an electric atmosphere for professional development. No matter the location, or the role, every Nike employee shares one galvanizing mission: To bring inspiration and innovation to every athlete* in the world.NIKE, Inc. is committed to employing a diverse workforce. Qualified applicants will receive consideration without regard to race, color, religion, sex, national origin, age, sexual orientation, gender identity, gender expression, veteran status, or disability.How We HireAt NIKE, Inc. we promise to provide a premium, inclusive, compelling and authentic candidate experience. Delivering on this promise means we allow you to be at your best — and to do that, you need to understand how the hiring process works. Transparency is key.\n",
      "\n",
      "* This overview explains our hiring process for corporate roles. Note there may be different hiring steps involved for non-corporate roles.Start nowBenefitsWhether it’s transportation or financial health, we continually invest in our employees to help them achieve greatness — inside and outside of work. All who work here should be able to realize their full potential.Employee Assistance ProgramEmployee Stock Purchase Plan (ESPP)HolidaysMedical PlanPaid Time Off (PTO)Product DiscountsSabbaticalsLearn moreFIND A STOREBECOME A MEMBERSIGN UP FOR EMAILSEND US FEEDBACKSTUDENT DISCOUNTSGET HELPGET HELPOrder StatusDeliveryReturnsPayment OptionsContact Us On Nike.com InquiriesContact Us On All Other InquiriesABOUT NIKEABOUT NIKENewsCareersInvestorsSustainabilityIndia© 2024 Nike, Inc. All Rights ReservedGuidesNike AdaptNike Air MaxNike FlyleatherNike PegasusNike Zoom FlyNike AirNike FlyEaseNike FreeNike ReactNike ZoomXNike Air Force 1Nike FlyknitNike JoyrideNike VaporflyTerms of SaleTerms of UseNike Privacy Policy\n"
     ]
    }
   ],
   "source": [
    "from langchain_community.document_loaders import WebBaseLoader\n",
    "\n",
    "loader = WebBaseLoader(\"https://jobs.nike.com/job/R-38030?from=job%20search%20funnel\")\n",
    "page_data = loader.load().pop().page_content\n",
    "print(page_data)"
   ]
  },
  {
   "cell_type": "code",
   "execution_count": 7,
   "id": "a219c0e3-6a22-479c-8f2a-b6d252f7b814",
   "metadata": {},
   "outputs": [
    {
     "data": {
      "text/plain": [
       "str"
      ]
     },
     "execution_count": 7,
     "metadata": {},
     "output_type": "execute_result"
    }
   ],
   "source": [
    "from langchain_core.prompts import PromptTemplate  \n",
    "\n",
    "prompt_extract = PromptTemplate.from_template(  \n",
    "    \"\"\"  \n",
    "    ### SCRAPED TEXT FROM WEBSITE:  \n",
    "    {page_data}  \n",
    "    ### INSTRUCTION:  \n",
    "    The scraped text is from the career's page of a website.  \n",
    "    Your job is to extract the job postings and return them in JSON format containing the following keys: `role`, `experience`, `skills` and `description`.  \n",
    "    Only return the valid JSON.  \n",
    "    ### VALID JSON (NO PREAMBLE).  \n",
    "    \"\"\"  \n",
    ")  \n",
    "\n",
    "chain_extract = prompt_extract | llm  \n",
    "res = chain_extract.invoke(input={'page_data': page_data})  \n",
    "type(res.content)"
   ]
  },
  {
   "cell_type": "code",
   "execution_count": 8,
   "id": "7c549d5f-a141-403d-acb5-0f19a48f23e4",
   "metadata": {},
   "outputs": [
    {
     "data": {
      "text/plain": [
       "{'role': 'NIKE, Inc. Data & Machine Learning Engineer Undergraduate Internship',\n",
       " 'experience': '0-2 years',\n",
       " 'skills': ['Python',\n",
       "  'SQL',\n",
       "  'Tableau',\n",
       "  'AI/ML techniques (neural networks, tree ensembles, regressions, etc.)',\n",
       "  'Data structures and algorithms',\n",
       "  'Solution and technical design',\n",
       "  'Problem-solving, debugging, testing, and analytical skills'],\n",
       " 'description': 'Apply machine learning and engineering expertise to improve existing algorithms and understand and be able to leverage core concepts of AI/ML to research and develop new algorithms. Collaborate in multi-functional teams to support other groups who will also be working on science or science-engineering-related work.'}"
      ]
     },
     "execution_count": 8,
     "metadata": {},
     "output_type": "execute_result"
    }
   ],
   "source": [
    "from langchain_core.output_parsers import JsonOutputParser\n",
    "\n",
    "json_parser = JsonOutputParser()\n",
    "json_res = json_parser.parse(res.content)\n",
    "json_res"
   ]
  },
  {
   "cell_type": "code",
   "execution_count": 67,
   "id": "7ed4b123-4425-4b03-b167-f9bec70f95bd",
   "metadata": {},
   "outputs": [],
   "source": [
    "import pandas as pd\n",
    "\n",
    "df = pd.read_csv(\"Portfolio.csv\")"
   ]
  },
  {
   "cell_type": "code",
   "execution_count": 68,
   "id": "2e7aacf6-92a8-4c85-9688-f0eda1e0aaab",
   "metadata": {},
   "outputs": [
    {
     "data": {
      "text/html": [
       "<div>\n",
       "<style scoped>\n",
       "    .dataframe tbody tr th:only-of-type {\n",
       "        vertical-align: middle;\n",
       "    }\n",
       "\n",
       "    .dataframe tbody tr th {\n",
       "        vertical-align: top;\n",
       "    }\n",
       "\n",
       "    .dataframe thead th {\n",
       "        text-align: right;\n",
       "    }\n",
       "</style>\n",
       "<table border=\"1\" class=\"dataframe\">\n",
       "  <thead>\n",
       "    <tr style=\"text-align: right;\">\n",
       "      <th></th>\n",
       "      <th>Techstack</th>\n",
       "      <th>Links</th>\n",
       "    </tr>\n",
       "  </thead>\n",
       "  <tbody>\n",
       "    <tr>\n",
       "      <th>0</th>\n",
       "      <td>React, Node.js, MongoDB</td>\n",
       "      <td>https://example.com/react-portfolio</td>\n",
       "    </tr>\n",
       "    <tr>\n",
       "      <th>1</th>\n",
       "      <td>Angular, .NET, SQL Server</td>\n",
       "      <td>https://example.com/angular-portfolio</td>\n",
       "    </tr>\n",
       "    <tr>\n",
       "      <th>2</th>\n",
       "      <td>Vue.js, Ruby on Rails, PostgreSQL</td>\n",
       "      <td>https://example.com/vue-portfolio</td>\n",
       "    </tr>\n",
       "    <tr>\n",
       "      <th>3</th>\n",
       "      <td>Python, Django, MySQL</td>\n",
       "      <td>https://example.com/python-portfolio</td>\n",
       "    </tr>\n",
       "    <tr>\n",
       "      <th>4</th>\n",
       "      <td>Java, Spring Boot, Oracle</td>\n",
       "      <td>https://example.com/java-portfolio</td>\n",
       "    </tr>\n",
       "    <tr>\n",
       "      <th>5</th>\n",
       "      <td>Flutter, Firebase, GraphQL</td>\n",
       "      <td>https://example.com/flutter-portfolio</td>\n",
       "    </tr>\n",
       "    <tr>\n",
       "      <th>6</th>\n",
       "      <td>WordPress, PHP, MySQL</td>\n",
       "      <td>https://example.com/wordpress-portfolio</td>\n",
       "    </tr>\n",
       "    <tr>\n",
       "      <th>7</th>\n",
       "      <td>Magento, PHP, MySQL</td>\n",
       "      <td>https://example.com/magento-portfolio</td>\n",
       "    </tr>\n",
       "    <tr>\n",
       "      <th>8</th>\n",
       "      <td>React Native, Node.js, MongoDB</td>\n",
       "      <td>https://example.com/react-native-portfolio</td>\n",
       "    </tr>\n",
       "    <tr>\n",
       "      <th>9</th>\n",
       "      <td>iOS, Swift, Core Data</td>\n",
       "      <td>https://example.com/ios-portfolio</td>\n",
       "    </tr>\n",
       "    <tr>\n",
       "      <th>10</th>\n",
       "      <td>Android, Java, Room Persistence</td>\n",
       "      <td>https://example.com/android-portfolio</td>\n",
       "    </tr>\n",
       "    <tr>\n",
       "      <th>11</th>\n",
       "      <td>Kotlin, Android, Firebase</td>\n",
       "      <td>https://example.com/kotlin-android-portfolio</td>\n",
       "    </tr>\n",
       "    <tr>\n",
       "      <th>12</th>\n",
       "      <td>Android TV, Kotlin, Android NDK</td>\n",
       "      <td>https://example.com/android-tv-portfolio</td>\n",
       "    </tr>\n",
       "    <tr>\n",
       "      <th>13</th>\n",
       "      <td>iOS, Swift, ARKit</td>\n",
       "      <td>https://example.com/ios-ar-portfolio</td>\n",
       "    </tr>\n",
       "    <tr>\n",
       "      <th>14</th>\n",
       "      <td>Cross-platform, Xamarin, Azure</td>\n",
       "      <td>https://example.com/xamarin-portfolio</td>\n",
       "    </tr>\n",
       "    <tr>\n",
       "      <th>15</th>\n",
       "      <td>Backend, Kotlin, Spring Boot</td>\n",
       "      <td>https://example.com/kotlin-backend-portfolio</td>\n",
       "    </tr>\n",
       "    <tr>\n",
       "      <th>16</th>\n",
       "      <td>Frontend, TypeScript, Angular</td>\n",
       "      <td>https://example.com/typescript-frontend-portf...</td>\n",
       "    </tr>\n",
       "    <tr>\n",
       "      <th>17</th>\n",
       "      <td>Full-stack, JavaScript, Express.js</td>\n",
       "      <td>https://example.com/full-stack-js-portfolio</td>\n",
       "    </tr>\n",
       "    <tr>\n",
       "      <th>18</th>\n",
       "      <td>Machine Learning, Python, TensorFlow</td>\n",
       "      <td>https://example.com/ml-python-portfolio</td>\n",
       "    </tr>\n",
       "    <tr>\n",
       "      <th>19</th>\n",
       "      <td>DevOps, Jenkins, Docker</td>\n",
       "      <td>https://example.com/devops-portfolio</td>\n",
       "    </tr>\n",
       "  </tbody>\n",
       "</table>\n",
       "</div>"
      ],
      "text/plain": [
       "                                Techstack  \\\n",
       "0                React, Node.js, MongoDB    \n",
       "1              Angular, .NET, SQL Server    \n",
       "2      Vue.js, Ruby on Rails, PostgreSQL    \n",
       "3                  Python, Django, MySQL    \n",
       "4              Java, Spring Boot, Oracle    \n",
       "5             Flutter, Firebase, GraphQL    \n",
       "6                  WordPress, PHP, MySQL    \n",
       "7                    Magento, PHP, MySQL    \n",
       "8         React Native, Node.js, MongoDB    \n",
       "9                  iOS, Swift, Core Data    \n",
       "10       Android, Java, Room Persistence    \n",
       "11             Kotlin, Android, Firebase    \n",
       "12       Android TV, Kotlin, Android NDK    \n",
       "13                     iOS, Swift, ARKit    \n",
       "14        Cross-platform, Xamarin, Azure    \n",
       "15          Backend, Kotlin, Spring Boot    \n",
       "16         Frontend, TypeScript, Angular    \n",
       "17    Full-stack, JavaScript, Express.js    \n",
       "18  Machine Learning, Python, TensorFlow    \n",
       "19               DevOps, Jenkins, Docker    \n",
       "\n",
       "                                                Links  \n",
       "0                 https://example.com/react-portfolio  \n",
       "1               https://example.com/angular-portfolio  \n",
       "2                   https://example.com/vue-portfolio  \n",
       "3                https://example.com/python-portfolio  \n",
       "4                  https://example.com/java-portfolio  \n",
       "5               https://example.com/flutter-portfolio  \n",
       "6             https://example.com/wordpress-portfolio  \n",
       "7               https://example.com/magento-portfolio  \n",
       "8          https://example.com/react-native-portfolio  \n",
       "9                   https://example.com/ios-portfolio  \n",
       "10              https://example.com/android-portfolio  \n",
       "11       https://example.com/kotlin-android-portfolio  \n",
       "12           https://example.com/android-tv-portfolio  \n",
       "13               https://example.com/ios-ar-portfolio  \n",
       "14              https://example.com/xamarin-portfolio  \n",
       "15       https://example.com/kotlin-backend-portfolio  \n",
       "16   https://example.com/typescript-frontend-portf...  \n",
       "17        https://example.com/full-stack-js-portfolio  \n",
       "18            https://example.com/ml-python-portfolio  \n",
       "19               https://example.com/devops-portfolio  "
      ]
     },
     "execution_count": 68,
     "metadata": {},
     "output_type": "execute_result"
    }
   ],
   "source": [
    "df"
   ]
  },
  {
   "cell_type": "code",
   "execution_count": 69,
   "id": "724a1b55-7813-4414-ac46-efcb3c46621c",
   "metadata": {},
   "outputs": [],
   "source": [
    "import uuid\n",
    "import chromadb\n",
    "\n",
    "client = chromadb.PersistentClient('vectorstore')\n",
    "collection = client.get_or_create_collection(name=\"portfolio\")\n",
    "\n",
    "if not collection.count():\n",
    "    for _, row in df.iterrows():\n",
    "        collection.add(documents=row[\"Techstack\"],\n",
    "                       metadatas={\"links\": row[\"Links\"]},\n",
    "                       ids=[str(uuid.uuid4())])"
   ]
  },
  {
   "cell_type": "code",
   "execution_count": 72,
   "id": "cf9a1ebc-4be8-4159-8c7a-47769e9f3a95",
   "metadata": {},
   "outputs": [
    {
     "data": {
      "text/plain": [
       "[[{'links': ' https://example.com/ml-python-portfolio'},\n",
       "  {'links': ' https://example.com/python-portfolio'}],\n",
       " [{'links': ' https://example.com/magento-portfolio'},\n",
       "  {'links': ' https://example.com/wordpress-portfolio'}],\n",
       " [{'links': ' https://example.com/flutter-portfolio'},\n",
       "  {'links': ' https://example.com/android-tv-portfolio'}],\n",
       " [{'links': ' https://example.com/ml-python-portfolio'},\n",
       "  {'links': ' https://example.com/magento-portfolio'}],\n",
       " [{'links': ' https://example.com/magento-portfolio'},\n",
       "  {'links': ' https://example.com/ml-python-portfolio'}],\n",
       " [{'links': ' https://example.com/typescript-frontend-portfolio'},\n",
       "  {'links': ' https://example.com/full-stack-js-portfolio'}],\n",
       " [{'links': ' https://example.com/ml-python-portfolio'},\n",
       "  {'links': ' https://example.com/python-portfolio'}]]"
      ]
     },
     "execution_count": 72,
     "metadata": {},
     "output_type": "execute_result"
    }
   ],
   "source": [
    "links = collection.query(query_texts=job['skills'], n_results=2).get('metadatas', [])\n",
    "links"
   ]
  },
  {
   "cell_type": "code",
   "execution_count": 71,
   "id": "345588b0-7e8c-41c0-a9da-a3872d6a8741",
   "metadata": {},
   "outputs": [
    {
     "data": {
      "text/plain": [
       "['Python',\n",
       " 'SQL',\n",
       " 'Tableau',\n",
       " 'AI/ML techniques (neural networks, tree ensembles, regressions, etc.)',\n",
       " 'Data structures and algorithms',\n",
       " 'Solution and technical design',\n",
       " 'Problem-solving, debugging, testing, and analytical skills']"
      ]
     },
     "execution_count": 71,
     "metadata": {},
     "output_type": "execute_result"
    }
   ],
   "source": [
    "job = json_res\n",
    "job['skills']"
   ]
  },
  {
   "cell_type": "code",
   "execution_count": 74,
   "id": "e606e247-80f5-43e5-ab3e-5bbc9b6d12f5",
   "metadata": {},
   "outputs": [
    {
     "name": "stdout",
     "output_type": "stream",
     "text": [
      "Subject: Expert Data & Machine Learning Engineering Solutions for NIKE, Inc.\n",
      "\n",
      "Dear Hiring Manager,\n",
      "\n",
      "I came across the Data & Machine Learning Engineer Undergraduate Internship role at NIKE, Inc. and was impressed by the company's commitment to leveraging AI/ML techniques to drive innovation. As a Business Development Executive at AtliQ, I'd like to introduce our team's expertise in delivering tailored solutions that can support your goals.\n",
      "\n",
      "At AtliQ, we specialize in AI & Software Consulting, empowering enterprises to scale, optimize processes, reduce costs, and enhance overall efficiency. Our team of experts has a proven track record in developing and implementing machine learning algorithms, data structures, and solution design. We're confident that our capabilities align with the requirements of the Data & Machine Learning Engineer role.\n",
      "\n",
      "Our portfolio showcases our expertise in machine learning and Python development, which are essential skills for this role. You can explore our relevant projects at:\n",
      "\n",
      "https://example.com/ml-python-portfolio\n",
      "https://example.com/python-portfolio\n",
      "\n",
      "These projects demonstrate our ability to design and implement AI/ML solutions that drive business value. Our team is well-versed in collaborating with multi-functional teams, ensuring seamless integration of our solutions with existing systems.\n",
      "\n",
      "We'd be delighted to discuss how our expertise can support NIKE, Inc.'s goals and contribute to the success of your team. Please feel free to contact me to schedule a call and explore potential collaboration opportunities.\n",
      "\n",
      "Best regards,\n",
      "\n",
      "Ansh\n",
      "Business Development Executive\n",
      "AtliQ\n"
     ]
    }
   ],
   "source": [
    "prompt_email = PromptTemplate.from_template(\n",
    "        \"\"\"\n",
    "        ### JOB DESCRIPTION:\n",
    "        {job_description}\n",
    "        \n",
    "        ### INSTRUCTION:\n",
    "        You are Ansh, a business development executive at AtliQ. AtliQ is an AI & Software Consulting company dedicated to facilitating\n",
    "        the seamless integration of business processes through automated tools. \n",
    "        Over our experience, we have empowered numerous enterprises with tailored solutions, fostering scalability, \n",
    "        process optimization, cost reduction, and heightened overall efficiency. \n",
    "        Your job is to write a cold email to the client regarding the job mentioned above describing the capability of AtliQ \n",
    "        in fulfilling their needs.\n",
    "        Also add the most relevant ones from the following links to showcase Atliq's portfolio: {link_list}\n",
    "        Remember you are Mohan, BDE at AtliQ. \n",
    "        Do not provide a preamble.\n",
    "        ### EMAIL (NO PREAMBLE):\n",
    "        \n",
    "        \"\"\"\n",
    "        )\n",
    "\n",
    "chain_email = prompt_email | llm\n",
    "res = chain_email.invoke({\"job_description\": str(job), \"link_list\": links})\n",
    "print(res.content)"
   ]
  },
  {
   "cell_type": "code",
   "execution_count": null,
   "id": "1b9fe98c-436d-443c-9bc5-f57991235adb",
   "metadata": {},
   "outputs": [],
   "source": [
    "\n"
   ]
  },
  {
   "cell_type": "code",
   "execution_count": null,
   "id": "8e249966-efa0-432c-b2ce-dd0bef0e6478",
   "metadata": {},
   "outputs": [],
   "source": []
  }
 ],
 "metadata": {
  "kernelspec": {
   "display_name": "Python 3 (ipykernel)",
   "language": "python",
   "name": "python3"
  },
  "language_info": {
   "codemirror_mode": {
    "name": "ipython",
    "version": 3
   },
   "file_extension": ".py",
   "mimetype": "text/x-python",
   "name": "python",
   "nbconvert_exporter": "python",
   "pygments_lexer": "ipython3",
   "version": "3.12.5"
  }
 },
 "nbformat": 4,
 "nbformat_minor": 5
}
